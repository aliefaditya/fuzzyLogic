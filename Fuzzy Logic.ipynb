{
 "cells": [
  {
   "cell_type": "code",
   "execution_count": 86,
   "metadata": {},
   "outputs": [],
   "source": [
    "# import libraries\n",
    "import pandas as p\n",
    "import random \n",
    "import matplotlib.pyplot as plt\n",
    "import numpy as np"
   ]
  },
  {
   "cell_type": "code",
   "execution_count": 87,
   "metadata": {},
   "outputs": [
    {
     "name": "stdout",
     "output_type": "stream",
     "text": [
      "     id  followerCount  engagementRate\n",
      "0     1           6207             1.0\n",
      "1     2          38237             5.8\n",
      "2     3          14840             0.6\n",
      "3     4          43851             1.4\n",
      "4     5          15530             3.5\n",
      "5     6          24050             3.3\n",
      "6     7          44837             1.3\n",
      "7     8          10029             3.4\n",
      "8     9          14531             0.2\n",
      "9    10           7862             2.8\n",
      "10   11          95117             6.6\n",
      "11   12          28548             2.5\n",
      "12   13          90773             6.7\n",
      "13   14          34711             1.8\n",
      "14   15          11546             2.4\n",
      "15   16          38046             0.9\n",
      "16   17          17006             0.9\n",
      "17   18          22159             1.0\n",
      "18   19          55217             4.9\n",
      "19   20           1908             2.3\n",
      "20   21          23555             0.8\n",
      "21   22           6463             1.2\n",
      "22   23          27915             2.1\n",
      "23   24           3628             0.5\n",
      "24   25          77585             2.7\n",
      "25   26          30010             1.2\n",
      "26   27          18404             3.1\n",
      "27   28           9828             3.7\n",
      "28   29          12108             0.5\n",
      "29   30           7643             2.0\n",
      "..  ...            ...             ...\n",
      "70   71          25160             2.8\n",
      "71   72          61456             4.6\n",
      "72   73          21216             2.5\n",
      "73   74          22394             6.3\n",
      "74   75          94551             3.0\n",
      "75   76          39175             3.3\n",
      "76   77          17408             1.9\n",
      "77   78          20226             3.0\n",
      "78   79          47405             0.4\n",
      "79   80          20406             3.2\n",
      "80   81          44116             1.2\n",
      "81   82          12098             0.2\n",
      "82   83          10614             0.1\n",
      "83   84          25712             2.0\n",
      "84   85          25346             2.3\n",
      "85   86          26515             2.0\n",
      "86   87           9043             2.9\n",
      "87   88          19602             2.7\n",
      "88   89          22801             2.3\n",
      "89   90           1526             2.5\n",
      "90   91          22100             3.2\n",
      "91   92           3837             2.4\n",
      "92   93          27657             5.5\n",
      "93   94          49646             0.5\n",
      "94   95          15523             3.1\n",
      "95   96          13436             0.7\n",
      "96   97           5741             0.9\n",
      "97   98          27417             0.4\n",
      "98   99          40869             0.1\n",
      "99  100          15788             6.8\n",
      "\n",
      "[100 rows x 3 columns]\n"
     ]
    }
   ],
   "source": [
    "# Read File\n",
    "data = p.read_csv(\"influencers.csv\", sep=\",\")\n",
    "print(data)"
   ]
  },
  {
   "cell_type": "code",
   "execution_count": 88,
   "metadata": {},
   "outputs": [],
   "source": [
    "# Determine the Input and Output\n",
    "followCount = [\"Low\", \"Average\", \"High\"]\n",
    "engRate     = [\"Bottom\", \"Middle\", \"Upper\"]\n",
    "score       = [\"Rejected\", \"Considered\", \"Accepted\"]"
   ]
  },
  {
   "cell_type": "code",
   "execution_count": 89,
   "metadata": {},
   "outputs": [],
   "source": [
    "d = data.values"
   ]
  },
  {
   "cell_type": "code",
   "execution_count": 134,
   "metadata": {},
   "outputs": [],
   "source": [
    "# Design the Membership Function\n",
    "\n",
    "# ------------------------------\n",
    "# Follower Count (HIGH)\n",
    "# ------------------------------\n",
    "def follHigh(x):\n",
    "    if ((x <= 55000) and (x > 4900)): return ((x-4900)/(55000-4900))\n",
    "    elif (x <= 4900): return 0\n",
    "    elif (x > 55000): return 1\n",
    "# ------------------------------\n",
    "# Follower Count (AVG)\n",
    "# ------------------------------\n",
    "def follAvg(x):\n",
    "    if ((x <= 10000) or (x > 48600)): return 0\n",
    "    elif ((x <= 20000) and (x > 10000)): return ((x-10000)/(20000-10000))\n",
    "    elif ((x <= 45000) and (x > 20000)): return 1\n",
    "    elif ((x > 45000) and (x <= 48600)): return ((48600 - x)/(48600-45000))\n",
    "# ------------------------------\n",
    "# Follower Count (LOW)\n",
    "# ------------------------------\n",
    "def follLow(x):\n",
    "    if ((x <= 15000) and (x > 10000)): return ((15000-x)/(15000-10000))\n",
    "    elif (x <= 10000): return 1\n",
    "    elif (x > 15000): return 0      \n",
    "    \n",
    "# ------------------------------\n",
    "# Engagement Rate (HIGH)\n",
    "# ------------------------------\n",
    "def engUpper(x):\n",
    "    if ((x <= 8.0) and (x > 6.5)): return ((x-6.6)/(8.0-6.5))\n",
    "    elif (x <= 6.5): return 0\n",
    "    elif (x > 8.0): return 1\n",
    "# ------------------------------\n",
    "# Engagement Rate (MIDDLE)\n",
    "# ------------------------------    \n",
    "def engMid(x):\n",
    "    if ((x <= 2.0) or (x > 7.5)): return 0\n",
    "    elif ((x <= 4.5) and (x > 2.0)): return ((x-2.0)/(4.5-2.0))\n",
    "    elif ((x <= 6.5) and (x > 4.5)): return 1\n",
    "    elif ((x > 6.5) and (x <= 7.5)): return ((7.5 - x)/(7.5-6.5))\n",
    "# ------------------------------\n",
    "# Engagement Rate (LOW)\n",
    "# ------------------------------\n",
    "def engBottom(x):\n",
    "    if ((x <= 4.5) and (x > 2.0)): return ((4.5-x)/(4.5-2.0))\n",
    "    elif (x <= 2.0): return 1\n",
    "    elif (x > 4.5): return 0\n"
   ]
  },
  {
   "cell_type": "code",
   "execution_count": 122,
   "metadata": {},
   "outputs": [],
   "source": [
    "# Define the Rules\n",
    "\n",
    "def rules(followCount, engRate):\n",
    "    if ((followCount == \"High\") and (engRate == \"Upper\")):scoreValue = \"Accepted\"\n",
    "    elif ((followCount == \"High\") and (engRate == \"Middle\")):scoreValue = \"Accepted\"\n",
    "    elif ((followCount == \"High\") and (engRate == \"Bottom\")):scoreValue = \"Considered\" \n",
    "    #----------------------------------------------------------------------------------\n",
    "    elif ((followCount == \"Average\") and (engRate == \"Upper\")):scoreValue = \"Accepted\"\n",
    "    elif ((followCount == \"Average\") and (engRate == \"Middle\")):scoreValue = \"Considered\"\n",
    "    elif ((followCount == \"Average\") and (engRate == \"Bottom\")):scoreValue = \"Rejected\"\n",
    "    #----------------------------------------------------------------------------------\n",
    "    elif ((followCount == \"Low\") and (engRate == \"Upper\")):scoreValue = \"Accepted\"\n",
    "    elif ((followCount == \"Low\") and (engRate == \"Middle\")):scoreValue = \"Rejected\"\n",
    "    elif ((followCount == \"Low\") and (engRate == \"Bottom\")):scoreValue = \"Rejected\"\n",
    "    return scoreValue"
   ]
  },
  {
   "cell_type": "code",
   "execution_count": 130,
   "metadata": {},
   "outputs": [],
   "source": [
    "def FuzziFollowers(value):\n",
    "    #FUZZIFICATION for Followers Count\n",
    "    high = follHigh(value)\n",
    "    avg = follAvg(value)\n",
    "    low = follLow(value)\n",
    "    return high, avg, low"
   ]
  },
  {
   "cell_type": "code",
   "execution_count": 124,
   "metadata": {},
   "outputs": [],
   "source": [
    "def FuzziEngagement(value):\n",
    "    #FUZZIFICATION for ENGAGEMENT RATE\n",
    "    upper = engUpper(value)\n",
    "    middle = engMid(value)\n",
    "    bottom = engBottom(value)\n",
    "    \n",
    "    return upper, middle, bottom"
   ]
  },
  {
   "cell_type": "code",
   "execution_count": 178,
   "metadata": {},
   "outputs": [],
   "source": [
    "def InferenceTable(high, avg, low, upper, middle, bottom):\n",
    "    # high, avg, low, upper, middle, bottom : nilainya\n",
    "    tempAcc = []\n",
    "    tempCons = []\n",
    "    tempRej = []\n",
    "    \n",
    "    tempTable = [[high, upper], [high, middle], [high, bottom],[avg, upper], [avg, middle], [avg, bottom], [low, upper], [low, middle], [low, bottom]]\n",
    "    \n",
    "    tempNilai = 0\n",
    "    \n",
    "    for j in range(9):\n",
    "        # Classification\n",
    "        tempNilai = min(tempTable[j][0], tempTable[j][1])\n",
    "        if (j == 0) or (j == 1) or (j == 3) or (j == 6):tempAcc.append(tempNilai)\n",
    "        elif (j == 2) or (j == 4):tempCons.append(tempNilai)\n",
    "        elif (j == 5) or (j == 7) or (j == 8):tempRej.append(tempNilai)\n",
    "    \n",
    "    acc = max(tempAcc)\n",
    "    cons = max(tempCons)\n",
    "    rej = max(tempRej)\n",
    "    \n",
    "    return acc, cons, rej"
   ]
  },
  {
   "cell_type": "code",
   "execution_count": 179,
   "metadata": {},
   "outputs": [],
   "source": [
    "# Defuzzification using Takagi-Sugeno style\n",
    "\n",
    "def Defuzz(accepted, considered, rejected):\n",
    "    # constant variable\n",
    "    rej = 60\n",
    "    cons = 80\n",
    "    acc = 100\n",
    "    \n",
    "    # equation \n",
    "    result = ((accepted*acc)+(considered*cons)+(rejected*rej))/(accepted + considered + rejected)\n",
    "    return result"
   ]
  },
  {
   "cell_type": "code",
   "execution_count": 185,
   "metadata": {},
   "outputs": [
    {
     "name": "stdout",
     "output_type": "stream",
     "text": [
      "[60.50849106152859, 87.9909392715462, 65.81483778123574, 68.74802079707135, 76.77603369918442, 78.58541516245486, 68.87124182280618, 68.03205094743436, 65.95769240405043, 64.44388877775555, 99.99999999999999, 71.84791451971579, 100.0, 67.46105041859067, 68.5866237392486, 67.9633856281383, 65.12900250518683, 65.1244822518149, 100.0, 60.0, 65.42651443531379, 60.605075198885075, 67.391916843329, 60.0, 85.6, 66.67730355005983, 75.42418715804037, 66.73162735634277, 63.983878776891736, 61.03816967242586, 60.62532629502871, 68.89056570516993, 68.8707473926227, 67.23725638675222, 74.66080868669383, 80.3890556606144, 67.08862716800247, 66.72988292631244, 100.0, 64.85701691107322, 92.8, 66.62019789288146, 66.64765534426928, 66.10088366061916, 65.68042687591739, 68.52378279941817, 72.64550975675624, 84.64098039745635, 68.56046854128849, 68.7003101212292, 76.43277146217169, 68.17057045712127, 89.6, 70.62397654434584, 64.8299022889921, 66.84003152088259, 62.32675402625648, 60.29692262314424, 100.0, 100.0, 100.0, 67.25887873046553, 79.70474999294694, 61.37027052152087, 67.42327823172799, 72.60692609782221, 81.22276879831342, 66.37105549510338, 70.08775524914788, 69.1596900497136, 74.87322342239911, 100.0, 70.94796434594073, 85.17619907092346, 88.0, 80.52631578947368, 65.04130419361702, 75.49598019136124, 74.37548000704598, 76.78505014785233, 68.78140534730619, 63.968459622384366, 62.301168787549045, 65.86981046931409, 69.20534119581549, 66.02802760928677, 66.16059479553903, 73.19650628067033, 68.8013411567477, 60.0, 77.36939078751855, 60.0, 86.2470318569252, 80.0, 74.34934948124068, 66.6298102240124, 60.33018590133684, 66.2015781428591, 68.35817774111469, 85.45957617081534]\n",
      "=====\n",
      "[100.0, 100.0, 100.0, 100.0, 100.0, 100.0, 100.0, 99.99999999999999, 92.8, 89.6, 88.0, 87.9909392715462, 86.2470318569252, 85.6, 85.45957617081534, 85.17619907092346, 84.64098039745635, 81.22276879831342, 80.52631578947368, 80.3890556606144, 80.0, 79.70474999294694, 78.58541516245486, 77.36939078751855, 76.78505014785233, 76.77603369918442, 76.43277146217169, 75.49598019136124, 75.42418715804037, 74.87322342239911, 74.66080868669383, 74.37548000704598, 74.34934948124068, 73.19650628067033, 72.64550975675624, 72.60692609782221, 71.84791451971579, 70.94796434594073, 70.62397654434584, 70.08775524914788, 69.20534119581549, 69.1596900497136, 68.89056570516993, 68.87124182280618, 68.8707473926227, 68.8013411567477, 68.78140534730619, 68.74802079707135, 68.7003101212292, 68.5866237392486, 68.56046854128849, 68.52378279941817, 68.35817774111469, 68.17057045712127, 68.03205094743436, 67.9633856281383, 67.46105041859067, 67.42327823172799, 67.391916843329, 67.25887873046553, 67.23725638675222, 67.08862716800247, 66.84003152088259, 66.73162735634277, 66.72988292631244, 66.67730355005983, 66.64765534426928, 66.6298102240124, 66.62019789288146, 66.37105549510338, 66.2015781428591, 66.16059479553903, 66.10088366061916, 66.02802760928677, 65.95769240405043, 65.86981046931409, 65.81483778123574, 65.68042687591739, 65.42651443531379, 65.12900250518683, 65.1244822518149, 65.04130419361702, 64.85701691107322, 64.8299022889921, 64.44388877775555, 63.983878776891736, 63.968459622384366, 62.32675402625648, 62.301168787549045, 61.37027052152087, 61.03816967242586, 60.62532629502871, 60.605075198885075, 60.50849106152859, 60.33018590133684, 60.29692262314424, 60.0, 60.0, 60.0, 60.0]\n"
     ]
    }
   ],
   "source": [
    "#                                         MAIN PROGRAM                                               #\n",
    "#                                        (FUZZY LOGIC)                                               #\n",
    "\n",
    "person = []\n",
    "person.append([])\n",
    "for i in range(len(data)):\n",
    "    # FUZZIFICATION for FOLLOWERS COUNT\n",
    "    high, avg, low = FuzziFollowers(d[i][1])\n",
    "    #FUZZIFICATION for ENGAGEMENT RATE\n",
    "    upper, middle, bottom = FuzziEngagement(d[i][2])\n",
    "    # INFERENCE TABLE\n",
    "    acc, cons, rej = InferenceTable(high, avg, low, upper, middle, bottom)\n",
    "    # DEFUZZIFICATION\n",
    "    res = Defuzz(acc, cons, rej)\n",
    "    person.append(res)\n",
    "print(person)\n",
    "print(\"=====\")\n",
    "# SORTING \n",
    "srt = sorted(person, reverse=True)\n"
   ]
  },
  {
   "cell_type": "code",
   "execution_count": null,
   "metadata": {},
   "outputs": [],
   "source": []
  }
 ],
 "metadata": {
  "kernelspec": {
   "display_name": "Python 3",
   "language": "python",
   "name": "python3"
  },
  "language_info": {
   "codemirror_mode": {
    "name": "ipython",
    "version": 3
   },
   "file_extension": ".py",
   "mimetype": "text/x-python",
   "name": "python",
   "nbconvert_exporter": "python",
   "pygments_lexer": "ipython3",
   "version": "3.6.5"
  }
 },
 "nbformat": 4,
 "nbformat_minor": 2
}
