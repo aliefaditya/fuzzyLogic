{
 "cells": [
  {
   "cell_type": "code",
   "execution_count": 11,
   "metadata": {},
   "outputs": [],
   "source": [
    "import pandas as p\n",
    "import random "
   ]
  },
  {
   "cell_type": "code",
   "execution_count": 12,
   "metadata": {},
   "outputs": [
    {
     "name": "stdout",
     "output_type": "stream",
     "text": [
      "     id  followerCount  engagementRate\n",
      "0     1           6207             1.0\n",
      "1     2          38237             5.8\n",
      "2     3          14840             0.6\n",
      "3     4          43851             1.4\n",
      "4     5          15530             3.5\n",
      "5     6          24050             3.3\n",
      "6     7          44837             1.3\n",
      "7     8          10029             3.4\n",
      "8     9          14531             0.2\n",
      "9    10           7862             2.8\n",
      "10   11          95117             6.6\n",
      "11   12          28548             2.5\n",
      "12   13          90773             6.7\n",
      "13   14          34711             1.8\n",
      "14   15          11546             2.4\n",
      "15   16          38046             0.9\n",
      "16   17          17006             0.9\n",
      "17   18          22159             1.0\n",
      "18   19          55217             4.9\n",
      "19   20           1908             2.3\n",
      "20   21          23555             0.8\n",
      "21   22           6463             1.2\n",
      "22   23          27915             2.1\n",
      "23   24           3628             0.5\n",
      "24   25          77585             2.7\n",
      "25   26          30010             1.2\n",
      "26   27          18404             3.1\n",
      "27   28           9828             3.7\n",
      "28   29          12108             0.5\n",
      "29   30           7643             2.0\n",
      "..  ...            ...             ...\n",
      "70   71          25160             2.8\n",
      "71   72          61456             4.6\n",
      "72   73          21216             2.5\n",
      "73   74          22394             6.3\n",
      "74   75          94551             3.0\n",
      "75   76          39175             3.3\n",
      "76   77          17408             1.9\n",
      "77   78          20226             3.0\n",
      "78   79          47405             0.4\n",
      "79   80          20406             3.2\n",
      "80   81          44116             1.2\n",
      "81   82          12098             0.2\n",
      "82   83          10614             0.1\n",
      "83   84          25712             2.0\n",
      "84   85          25346             2.3\n",
      "85   86          26515             2.0\n",
      "86   87           9043             2.9\n",
      "87   88          19602             2.7\n",
      "88   89          22801             2.3\n",
      "89   90           1526             2.5\n",
      "90   91          22100             3.2\n",
      "91   92           3837             2.4\n",
      "92   93          27657             5.5\n",
      "93   94          49646             0.5\n",
      "94   95          15523             3.1\n",
      "95   96          13436             0.7\n",
      "96   97           5741             0.9\n",
      "97   98          27417             0.4\n",
      "98   99          40869             0.1\n",
      "99  100          15788             6.8\n",
      "\n",
      "[100 rows x 3 columns]\n"
     ]
    }
   ],
   "source": [
    "# Read File\n",
    "data = p.read_csv(\"influencers.csv\", sep=\",\")\n",
    "print(data)"
   ]
  },
  {
   "cell_type": "code",
   "execution_count": 21,
   "metadata": {},
   "outputs": [],
   "source": [
    "# Determine the Input and Output\n",
    "followCount = [\"Low\", \"Average\", \"High\"]\n",
    "engRate     = [\"Bottom\", \"Middle\", \"Upper\"]\n",
    "score       = [\"Rejected\", \"Considered\", \"Accepted\"]"
   ]
  },
  {
   "cell_type": "code",
   "execution_count": 22,
   "metadata": {},
   "outputs": [],
   "source": [
    "d = data.values"
   ]
  },
  {
   "cell_type": "code",
   "execution_count": 14,
   "metadata": {},
   "outputs": [],
   "source": [
    "#                                     Design the Membership Function                                 #\n",
    "\n",
    "# ------------------------------\n",
    "# Follower Count (HIGH)\n",
    "# ------------------------------\n",
    "def follHigh(x):\n",
    "    if ((x <= 55000) and (x > 50000)): return ((x-50000)/(55000-50000))\n",
    "    elif (x <= 50000): return 0\n",
    "    elif (x > 55000): return 1\n",
    "# ------------------------------\n",
    "# Follower Count (AVG)\n",
    "# ------------------------------\n",
    "def follAvg(x):\n",
    "    if ((x <= 10000) or (x > 48000)): return 0\n",
    "    elif ((x <= 20000) and (x > 10000)): return ((x-10000)/(20000-10000))\n",
    "    elif ((x <= 45000) and (x > 20000)): return 1\n",
    "    elif ((x > 45000) and (x <= 48000)): return ((48000 - x)/(48000-45000))\n",
    "# ------------------------------\n",
    "# Follower Count (LOW)\n",
    "# ------------------------------\n",
    "def follLow(x):\n",
    "    if ((x <= 15000) and (x > 10000)): return ((15000-x)/(15000-10000))\n",
    "    elif (x <= 10000): return 1\n",
    "    elif (x > 15000): return 0      \n",
    "    \n",
    "# ------------------------------\n",
    "# Engagement Rate (HIGH)\n",
    "# ------------------------------\n",
    "def engUpper(x):\n",
    "    if ((x <= 8.0) and (x > 6.5)): return ((x-6.6)/(8.0-6.5))\n",
    "    elif (x <= 6.5): return 0\n",
    "    elif (x > 8.0): return 1\n",
    "# ------------------------------\n",
    "# Engagement Rate (MIDDLE)\n",
    "# ------------------------------    \n",
    "def engMid(x):\n",
    "    if ((x <= 2.0) or (x > 7.5)): return 0\n",
    "    elif ((x <= 4.5) and (x > 2.0)): return ((x-2.0)/(4.5-2.0))\n",
    "    elif ((x <= 6.5) and (x > 4.5)): return 1\n",
    "    elif ((x > 6.5) and (x <= 7.5)): return ((7.5 - x)/(7.5-6.5))\n",
    "# ------------------------------\n",
    "# Engagement Rate (LOW)\n",
    "# ------------------------------\n",
    "def engBottom(x):\n",
    "    if ((x <= 4.5) and (x > 2.0)): return ((4.5-x)/(4.5-2.0))\n",
    "    elif (x <= 2.0): return 1\n",
    "    elif (x > 4.5): return 0\n"
   ]
  },
  {
   "cell_type": "code",
   "execution_count": 15,
   "metadata": {},
   "outputs": [],
   "source": [
    "#                                        Define the Rules                                            #\n",
    "\n",
    "def rules(followCount, engRate):\n",
    "    if ((followCount == \"High\") and (engRate == \"Upper\")):scoreValue = \"Accepted\"\n",
    "    elif ((followCount == \"High\") and (engRate == \"Middle\")):scoreValue = \"Accepted\"\n",
    "    elif ((followCount == \"High\") and (engRate == \"Bottom\")):scoreValue = \"Considered\" \n",
    "    #----------------------------------------------------------------------------------\n",
    "    elif ((followCount == \"Average\") and (engRate == \"Upper\")):scoreValue = \"Accepted\"\n",
    "    elif ((followCount == \"Average\") and (engRate == \"Middle\")):scoreValue = \"Considered\"\n",
    "    elif ((followCount == \"Average\") and (engRate == \"Bottom\")):scoreValue = \"Rejected\"\n",
    "    #----------------------------------------------------------------------------------\n",
    "    elif ((followCount == \"Low\") and (engRate == \"Upper\")):scoreValue = \"Accepted\"\n",
    "    elif ((followCount == \"Low\") and (engRate == \"Middle\")):scoreValue = \"Rejected\"\n",
    "    elif ((followCount == \"Low\") and (engRate == \"Bottom\")):scoreValue = \"Rejected\"\n",
    "    return scoreValue"
   ]
  },
  {
   "cell_type": "code",
   "execution_count": 26,
   "metadata": {},
   "outputs": [],
   "source": [
    "#                          Defuzzification using Takagi-Sugeno style                                #\n",
    "\n",
    "def Defuzz(accepted, considered, rejected):\n",
    "    # constant variable\n",
    "    rej = 60\n",
    "    cons = 75\n",
    "    acc = 90\n",
    "    \n",
    "    # equation \n",
    "    result = ((accepted*acc)+(considered*cons)+(rejected*rej))/(accepted + considered + rejected)\n",
    "    return result"
   ]
  },
  {
   "cell_type": "code",
   "execution_count": 32,
   "metadata": {},
   "outputs": [],
   "source": [
    "#                                         MAIN PROGRAM                                               #\n",
    "#                                        (FUZZY LOGIC)                                               #\n",
    "\n",
    "\n",
    "valueEachRow = []\n",
    "for i in range(len(data)):\n",
    "    for j in range(1,3):\n",
    "        high = follHigh(d[i][j])\n",
    "        avg  = follAvg(d[i][j])\n",
    "        low  = follLow(d[i][j])\n",
    "        "
   ]
  },
  {
   "cell_type": "code",
   "execution_count": null,
   "metadata": {},
   "outputs": [],
   "source": []
  }
 ],
 "metadata": {
  "kernelspec": {
   "display_name": "Python 3",
   "language": "python",
   "name": "python3"
  },
  "language_info": {
   "codemirror_mode": {
    "name": "ipython",
    "version": 3
   },
   "file_extension": ".py",
   "mimetype": "text/x-python",
   "name": "python",
   "nbconvert_exporter": "python",
   "pygments_lexer": "ipython3",
   "version": "3.6.5"
  }
 },
 "nbformat": 4,
 "nbformat_minor": 2
}
